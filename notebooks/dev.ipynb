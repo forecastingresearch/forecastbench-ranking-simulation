{
 "cells": [
  {
   "cell_type": "code",
   "execution_count": 1,
   "id": "bf0fdb3e",
   "metadata": {},
   "outputs": [],
   "source": [
    "import sys\n",
    "\n",
    "sys.path.append(\"../src\")\n",
    "import numpy as np\n",
    "import pandas as pd\n",
    "\n",
    "from ranking_sim import (\n",
    "    process_raw_data,\n",
    "    rank_by_brier,\n",
    "    rank_by_bss,\n",
    ")"
   ]
  },
  {
   "cell_type": "code",
   "execution_count": 2,
   "id": "16417b94",
   "metadata": {},
   "outputs": [],
   "source": [
    "INPUT_FOLDER = \"../data/raw\""
   ]
  },
  {
   "cell_type": "code",
   "execution_count": 3,
   "id": "ee6bdd74",
   "metadata": {},
   "outputs": [
    {
     "data": {
      "text/html": [
       "<div>\n",
       "<style scoped>\n",
       "    .dataframe tbody tr th:only-of-type {\n",
       "        vertical-align: middle;\n",
       "    }\n",
       "\n",
       "    .dataframe tbody tr th {\n",
       "        vertical-align: top;\n",
       "    }\n",
       "\n",
       "    .dataframe thead th {\n",
       "        text-align: right;\n",
       "    }\n",
       "</style>\n",
       "<table border=\"1\" class=\"dataframe\">\n",
       "  <thead>\n",
       "    <tr style=\"text-align: right;\">\n",
       "      <th></th>\n",
       "      <th>id</th>\n",
       "      <th>source</th>\n",
       "      <th>direction</th>\n",
       "      <th>forecast_due_date</th>\n",
       "      <th>market_value_on_due_date</th>\n",
       "      <th>resolution_date</th>\n",
       "      <th>resolved_to</th>\n",
       "      <th>resolved</th>\n",
       "      <th>forecast</th>\n",
       "      <th>imputed</th>\n",
       "      <th>score</th>\n",
       "      <th>horizon</th>\n",
       "      <th>model</th>\n",
       "      <th>organization</th>\n",
       "      <th>question_id</th>\n",
       "      <th>question_type</th>\n",
       "    </tr>\n",
       "  </thead>\n",
       "  <tbody>\n",
       "    <tr>\n",
       "      <th>0</th>\n",
       "      <td>1285</td>\n",
       "      <td>infer</td>\n",
       "      <td>()</td>\n",
       "      <td>2024-07-21</td>\n",
       "      <td>0.0163</td>\n",
       "      <td>2024-07-28</td>\n",
       "      <td>0.0</td>\n",
       "      <td>True</td>\n",
       "      <td>0.50</td>\n",
       "      <td>False</td>\n",
       "      <td>0.2500</td>\n",
       "      <td>7</td>\n",
       "      <td>Claude-2.1 (zero shot)</td>\n",
       "      <td>Anthropic</td>\n",
       "      <td>infer-1285-7-2024-07-21</td>\n",
       "      <td>market</td>\n",
       "    </tr>\n",
       "    <tr>\n",
       "      <th>2</th>\n",
       "      <td>1342</td>\n",
       "      <td>infer</td>\n",
       "      <td>()</td>\n",
       "      <td>2024-07-21</td>\n",
       "      <td>0.0088</td>\n",
       "      <td>2024-07-28</td>\n",
       "      <td>0.0</td>\n",
       "      <td>True</td>\n",
       "      <td>0.50</td>\n",
       "      <td>False</td>\n",
       "      <td>0.2500</td>\n",
       "      <td>7</td>\n",
       "      <td>Claude-2.1 (zero shot)</td>\n",
       "      <td>Anthropic</td>\n",
       "      <td>infer-1342-7-2024-07-21</td>\n",
       "      <td>market</td>\n",
       "    </tr>\n",
       "    <tr>\n",
       "      <th>3</th>\n",
       "      <td>1353</td>\n",
       "      <td>infer</td>\n",
       "      <td>()</td>\n",
       "      <td>2024-07-21</td>\n",
       "      <td>0.4943</td>\n",
       "      <td>2024-07-28</td>\n",
       "      <td>0.0</td>\n",
       "      <td>True</td>\n",
       "      <td>0.50</td>\n",
       "      <td>False</td>\n",
       "      <td>0.2500</td>\n",
       "      <td>7</td>\n",
       "      <td>Claude-2.1 (zero shot)</td>\n",
       "      <td>Anthropic</td>\n",
       "      <td>infer-1353-7-2024-07-21</td>\n",
       "      <td>market</td>\n",
       "    </tr>\n",
       "    <tr>\n",
       "      <th>5</th>\n",
       "      <td>1373</td>\n",
       "      <td>infer</td>\n",
       "      <td>()</td>\n",
       "      <td>2024-07-21</td>\n",
       "      <td>0.7474</td>\n",
       "      <td>2024-07-28</td>\n",
       "      <td>0.0</td>\n",
       "      <td>True</td>\n",
       "      <td>0.60</td>\n",
       "      <td>False</td>\n",
       "      <td>0.3600</td>\n",
       "      <td>7</td>\n",
       "      <td>Claude-2.1 (zero shot)</td>\n",
       "      <td>Anthropic</td>\n",
       "      <td>infer-1373-7-2024-07-21</td>\n",
       "      <td>market</td>\n",
       "    </tr>\n",
       "    <tr>\n",
       "      <th>6</th>\n",
       "      <td>1374</td>\n",
       "      <td>infer</td>\n",
       "      <td>()</td>\n",
       "      <td>2024-07-21</td>\n",
       "      <td>0.7568</td>\n",
       "      <td>2024-07-28</td>\n",
       "      <td>1.0</td>\n",
       "      <td>True</td>\n",
       "      <td>0.51</td>\n",
       "      <td>False</td>\n",
       "      <td>0.2401</td>\n",
       "      <td>7</td>\n",
       "      <td>Claude-2.1 (zero shot)</td>\n",
       "      <td>Anthropic</td>\n",
       "      <td>infer-1374-7-2024-07-21</td>\n",
       "      <td>market</td>\n",
       "    </tr>\n",
       "  </tbody>\n",
       "</table>\n",
       "</div>"
      ],
      "text/plain": [
       "     id source direction forecast_due_date  market_value_on_due_date  \\\n",
       "0  1285  infer        ()        2024-07-21                    0.0163   \n",
       "2  1342  infer        ()        2024-07-21                    0.0088   \n",
       "3  1353  infer        ()        2024-07-21                    0.4943   \n",
       "5  1373  infer        ()        2024-07-21                    0.7474   \n",
       "6  1374  infer        ()        2024-07-21                    0.7568   \n",
       "\n",
       "  resolution_date  resolved_to  resolved  forecast  imputed   score  horizon  \\\n",
       "0      2024-07-28          0.0      True      0.50    False  0.2500        7   \n",
       "2      2024-07-28          0.0      True      0.50    False  0.2500        7   \n",
       "3      2024-07-28          0.0      True      0.50    False  0.2500        7   \n",
       "5      2024-07-28          0.0      True      0.60    False  0.3600        7   \n",
       "6      2024-07-28          1.0      True      0.51    False  0.2401        7   \n",
       "\n",
       "                    model organization              question_id question_type  \n",
       "0  Claude-2.1 (zero shot)    Anthropic  infer-1285-7-2024-07-21        market  \n",
       "2  Claude-2.1 (zero shot)    Anthropic  infer-1342-7-2024-07-21        market  \n",
       "3  Claude-2.1 (zero shot)    Anthropic  infer-1353-7-2024-07-21        market  \n",
       "5  Claude-2.1 (zero shot)    Anthropic  infer-1373-7-2024-07-21        market  \n",
       "6  Claude-2.1 (zero shot)    Anthropic  infer-1374-7-2024-07-21        market  "
      ]
     },
     "execution_count": 3,
     "metadata": {},
     "output_type": "execute_result"
    }
   ],
   "source": [
    "df = process_raw_data(f\"{INPUT_FOLDER}/leaderboard_human.pkl\")\n",
    "df.head()"
   ]
  },
  {
   "cell_type": "code",
   "execution_count": 4,
   "id": "9a2e15c0",
   "metadata": {},
   "outputs": [
    {
     "data": {
      "text/plain": [
       "array([7])"
      ]
     },
     "execution_count": 4,
     "metadata": {},
     "output_type": "execute_result"
    }
   ],
   "source": [
    "mask = df['question_type'] == 'market'\n",
    "df.loc[mask, 'horizon'].unique()"
   ]
  },
  {
   "cell_type": "code",
   "execution_count": 5,
   "id": "ef1bb2c1",
   "metadata": {},
   "outputs": [
    {
     "data": {
      "text/plain": [
       "np.False_"
      ]
     },
     "execution_count": 5,
     "metadata": {},
     "output_type": "execute_result"
    }
   ],
   "source": [
    "mask = df['question_type'] == 'market'\n",
    "df.loc[mask, ['source', 'id', 'model', 'forecast']].duplicated().any()"
   ]
  },
  {
   "cell_type": "markdown",
   "id": "0cbb1491",
   "metadata": {},
   "source": []
  }
 ],
 "metadata": {
  "kernelspec": {
   "display_name": "data-science-env",
   "language": "python",
   "name": "python3"
  },
  "language_info": {
   "codemirror_mode": {
    "name": "ipython",
    "version": 3
   },
   "file_extension": ".py",
   "mimetype": "text/x-python",
   "name": "python",
   "nbconvert_exporter": "python",
   "pygments_lexer": "ipython3",
   "version": "3.13.2"
  }
 },
 "nbformat": 4,
 "nbformat_minor": 5
}
